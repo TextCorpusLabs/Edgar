{
 "cells": [
  {
   "cell_type": "markdown",
   "metadata": {},
   "source": [
    "Reproducible steps for getting 10-k filings from [EDGAR](https://www.sec.gov/edgar).\n",
    "\n",
    "You will need the latest copy of the modules.\n",
    "\n",
    "1. [sec-downloader](https://github.com/Elijas/sec-downloader)\n",
    "2. [sec-parser](https://github.com/alphanome-ai/sec-parser)\n"
   ]
  },
  {
   "cell_type": "code",
   "execution_count": null,
   "metadata": {},
   "outputs": [],
   "source": [
    "pip install --upgrade pip"
   ]
  },
  {
   "cell_type": "code",
   "execution_count": null,
   "metadata": {},
   "outputs": [],
   "source": [
    "!pip install sec-downloader\n",
    "!pip install sec-parser"
   ]
  },
  {
   "cell_type": "markdown",
   "metadata": {},
   "source": [
    "# Manual\n",
    "\n",
    "1. Navigate to [here](https://www.sec.gov/edgar/searchedgar/companysearch)\n",
    "2. Enter \"ENV\" into the search box.\n",
    "3. Right hand side, expand \"10-K (annual reports) and 10-Q (quarterly reports)\"\n",
    "4. Get whatever is on top.\n",
    "5. Scroll to \"Item 7\"\n",
    "\n",
    "As of 2024/01/03\n",
    "\n",
    "\"ENV\" is:\n",
    "\n",
    "* https://www.sec.gov/edgar/browse/?CIK=1337619\n",
    "* https://www.sec.gov/ix?doc=/Archives/edgar/data/1337619/000133761923000012/env-20221231.htm\n",
    "* pages 38-65\n",
    "\n",
    "\"MSFT\" is:\n",
    "\n",
    "* https://www.sec.gov/edgar/browse/?CIK=789019\n",
    "* https://www.sec.gov/ix?doc=/Archives/edgar/data/789019/000095017023035122/msft-20230630.htm\n",
    "* pages 40-57"
   ]
  },
  {
   "cell_type": "markdown",
   "metadata": {},
   "source": [
    "# Python\n",
    "\n",
    "As below"
   ]
  },
  {
   "cell_type": "code",
   "execution_count": 1,
   "metadata": {},
   "outputs": [],
   "source": [
    "from sec_downloader import Downloader\n",
    "\n",
    "dl = Downloader(\"SokpheanalHuynh\", \"sokpheanal.huynh@gmail.com\")\n",
    "html_1: bytes = dl.get_filing_html(ticker = \"ENV\", form = \"10-K\")\n",
    "html_2: bytes = dl.get_filing_html(ticker = \"MSFT\", form = \"10-K\")"
   ]
  },
  {
   "cell_type": "code",
   "execution_count": 6,
   "metadata": {},
   "outputs": [],
   "source": [
    "# parser\n",
    "# x1 = table > tr > td > child contains \"Management's Discussion and Analysis of Financial Condition and Results of Operations\"\n",
    "# id1 = capture prior a (href=\"#...\")\n",
    "# x2 = table > tr > td > child contains \"Quantitative and Qualitative Disclosures About Market Risk\"\n",
    "# id2 = capture prior a (href=\"#...\")\n",
    "# find children between id1 and id2\n",
    "\n",
    "from lxml import etree\n",
    "parser = etree.XMLParser(encoding = 'utf-8', recover = True, ns_clean = True)\n",
    "root: etree.Element = etree.fromstring(html_2, parser)"
   ]
  },
  {
   "cell_type": "markdown",
   "metadata": {},
   "source": [
    " Per [this](https://stackoverflow.com/questions/38936185/etree-xpath-return-entire-html-instead-of-text), you need to include the NS in every part of the `xpath`"
   ]
  },
  {
   "cell_type": "code",
   "execution_count": 3,
   "metadata": {},
   "outputs": [],
   "source": [
    "nsmap = {'x':'http://www.w3.org/1999/xhtml'}\n",
    "xpath_1 = \".//x:table/x:tr/x:td//*[contains(text(),'Financial Condition and Results of Operations')]\"\n",
    "xpath_1_id = \"ancestor-or-self::x:a[contains(@href, '#')]\""
   ]
  },
  {
   "cell_type": "code",
   "execution_count": 4,
   "metadata": {},
   "outputs": [],
   "source": [
    "def get_ref_id(node: etree.Element, xpath: str, xpath_id: str, ns_map: dict[str, str]) -> str:\n",
    "    t1: list[etree.Element] = node.xpath(xpath, namespaces = ns_map)\n",
    "    t2: list[etree.Element] = t1[0].xpath(xpath_id, namespaces = ns_map)\n",
    "    t3: str = t2[0].attrib['href']\n",
    "    return t3"
   ]
  },
  {
   "cell_type": "code",
   "execution_count": 7,
   "metadata": {},
   "outputs": [
    {
     "name": "stdout",
     "output_type": "stream",
     "text": [
      "#item_7_managements_discussion_analysis_f\n"
     ]
    }
   ],
   "source": [
    "id1 = get_ref_id(root, xpath_1, xpath_1_id, nsmap)\n",
    "print(id1)"
   ]
  },
  {
   "cell_type": "markdown",
   "metadata": {},
   "source": [
    "TODO: use xpath to get next section\n",
    "xpath1 > parent tr > next sibling >a [contains #]"
   ]
  }
 ],
 "metadata": {
  "datalore": {
   "base_environment": "minimal",
   "computation_mode": "JUPYTER",
   "package_manager": "pip",
   "packages": [],
   "report_row_ids": [],
   "version": 3
  },
  "kernelspec": {
   "display_name": "Python 3",
   "language": "python",
   "name": "python3"
  },
  "language_info": {
   "codemirror_mode": {
    "name": "ipython",
    "version": 3
   },
   "file_extension": ".py",
   "mimetype": "text/x-python",
   "name": "python",
   "nbconvert_exporter": "python",
   "pygments_lexer": "ipython3",
   "version": "3.12.1"
  }
 },
 "nbformat": 4,
 "nbformat_minor": 4
}
