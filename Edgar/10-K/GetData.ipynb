{
 "cells": [
  {
   "cell_type": "markdown",
   "metadata": {},
   "source": [
    "Reproducible steps for getting 10-k filings from [EDGAR](https://www.sec.gov/edgar).\n",
    "\n",
    "You will need the latest copy of the modules.\n",
    "\n",
    "1. [sec-downloader](https://github.com/Elijas/sec-downloader)\n",
    "2. [sec-parser](https://github.com/alphanome-ai/sec-parser)\n"
   ]
  },
  {
   "cell_type": "code",
   "execution_count": null,
   "metadata": {},
   "outputs": [],
   "source": [
    "pip install --upgrade pip"
   ]
  },
  {
   "cell_type": "code",
   "execution_count": null,
   "metadata": {},
   "outputs": [],
   "source": [
    "!pip install sec-downloader\n",
    "!pip install sec-parser"
   ]
  },
  {
   "cell_type": "markdown",
   "metadata": {},
   "source": [
    "# Example\n",
    "\n",
    "1. Navigate to [here](https://www.sec.gov/edgar/searchedgar/companysearch)\n",
    "2. Enter \"ENV\" into the search box.\n",
    "3. Right hand side, expand \"10-K (annual reports) and 10-Q (quarterly reports)\"\n",
    "4. Get whatever is on top.\n",
    "5. Scroll to \"Item 7\"\n",
    "\n",
    "As of 2024/01/03\n",
    "\n",
    "\"ENV\" is:\n",
    "\n",
    "* https://www.sec.gov/edgar/browse/?CIK=1337619\n",
    "* https://www.sec.gov/ix?doc=/Archives/edgar/data/1337619/000133761923000012/env-20221231.htm\n",
    "* pages 38-65\n",
    "\n",
    "\"MSFT\" is:\n",
    "\n",
    "* https://www.sec.gov/edgar/browse/?CIK=789019\n",
    "* https://www.sec.gov/ix?doc=/Archives/edgar/data/789019/000095017023035122/msft-20230630.htm\n",
    "* pages 40-57"
   ]
  },
  {
   "cell_type": "markdown",
   "metadata": {},
   "source": [
    "# Python\n",
    "\n",
    "1. Get all the `symbols` in _symbols.csv_\n",
    "2. For each `symbol` in `symbols`\n",
    "   1. If _corpus/raw_ is missing the xhtml associated with the `symbol`, download it\n",
    "3. For each xhtml  _corpus/raw_\n",
    "   1. Get the element IDs associated with Item 7 and 7A\n",
    "   2. TODO: Collect all the text inside [Item 7, Item 7A), save it to _corpus/text_\n"
   ]
  },
  {
   "cell_type": "code",
   "execution_count": null,
   "metadata": {},
   "outputs": [],
   "source": [
    "import csv\n",
    "from sec_downloader import Downloader\n",
    "from pathlib import Path\n",
    "from lxml import etree"
   ]
  },
  {
   "cell_type": "code",
   "execution_count": null,
   "metadata": {},
   "outputs": [],
   "source": [
    "symbol_file = Path('./symbols.csv')\n",
    "raw_files = Path('./corpus/raw')\n",
    "company_name = 'SokpheanalHuynh'\n",
    "email_address = 'sokpheanal.huynh@gmail.com'\n",
    "\n",
    "if not raw_files.exists():\n",
    "    raw_files.mkdir(parents = True)"
   ]
  },
  {
   "cell_type": "code",
   "execution_count": null,
   "metadata": {},
   "outputs": [],
   "source": [
    "with open(symbol_file, mode = 'r', encoding = 'utf-8') as fp:\n",
    "    reader = csv.reader(fp)\n",
    "    next(reader)\n",
    "    symbols = [row[0] for row in reader]\n",
    "\n",
    "dl = Downloader(company_name, email_address)\n",
    "for symbol in symbols:\n",
    "    if symbol.startswith('#'):\n",
    "        continue\n",
    "    xhtml_file = raw_files.joinpath(f'{symbol}.xhtml')\n",
    "    if xhtml_file.exists():\n",
    "        continue\n",
    "    print(f'Retrieving {symbol}...')\n",
    "    xhtml = dl.get_filing_html(ticker = symbol, form = \"10-K\")\n",
    "    with open(xhtml_file, mode = 'wb') as fp:\n",
    "        fp.write(xhtml)"
   ]
  },
  {
   "cell_type": "code",
   "execution_count": null,
   "metadata": {},
   "outputs": [],
   "source": [
    "def get_ref_ids(node: etree.Element) -> tuple[str, str]:\n",
    "    # you need to include the NS in every part of the `xpath`\n",
    "    # https://stackoverflow.com/questions/38936185/etree-xpath-return-entire-html-instead-of-text\n",
    "    ns_map = {'x':'http://www.w3.org/1999/xhtml'}\n",
    "    xpaths = [\n",
    "        \".//x:table/x:tr/x:td//*[contains(text(),'Financial Condition and Results of Operations')]\",\n",
    "        \"ancestor-or-self::x:a[contains(@href, '#')]\",\n",
    "        \"ancestor::x:tr/following-sibling::x:tr/x:td//x:a[contains(@href, '#')]\"]\n",
    "    t1: etree.Element = node.xpath(xpaths[0], namespaces = ns_map)[0]\n",
    "    t1_href: str = t1.xpath(xpaths[1], namespaces = ns_map)[0].attrib['href']\n",
    "    t2_href: str = t1.xpath(xpaths[2], namespaces = ns_map)[0].attrib['href']\n",
    "    return t1_href, t2_href"
   ]
  },
  {
   "cell_type": "code",
   "execution_count": null,
   "metadata": {},
   "outputs": [],
   "source": [
    "parser = etree.XMLParser(encoding = 'utf-8', recover = True, ns_clean = True)\n",
    "for xhtml_file in raw_files.iterdir():\n",
    "    print(f'Parsing {xhtml_file.name}...')\n",
    "    with open(xhtml_file, mode = 'rb') as fp:\n",
    "        xhtml = fp.read()\n",
    "    root: etree.Element = etree.fromstring(xhtml, parser)\n",
    "    ids = get_ref_ids(root)\n",
    "    print(ids[0])\n",
    "    print(ids[1])"
   ]
  }
 ],
 "metadata": {
  "datalore": {
   "base_environment": "minimal",
   "computation_mode": "JUPYTER",
   "package_manager": "pip",
   "packages": [],
   "report_row_ids": [],
   "version": 3
  },
  "kernelspec": {
   "display_name": "Python 3",
   "language": "python",
   "name": "python3"
  },
  "language_info": {
   "codemirror_mode": {
    "name": "ipython",
    "version": 3
   },
   "file_extension": ".py",
   "mimetype": "text/x-python",
   "name": "python",
   "nbconvert_exporter": "python",
   "pygments_lexer": "ipython3",
   "version": "3.12.1"
  }
 },
 "nbformat": 4,
 "nbformat_minor": 4
}
