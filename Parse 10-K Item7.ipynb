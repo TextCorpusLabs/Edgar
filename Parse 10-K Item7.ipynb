{
 "cells": [
  {
   "cell_type": "markdown",
   "metadata": {},
   "source": [
    "3. For each xhtml  _corpus/raw_\n",
    "   1. Get the element IDs associated with Item 7 and 7A\n",
    "   2. TODO: Collect all the text inside [Item 7, Item 7A), save it to _corpus/text_"
   ]
  },
  {
   "cell_type": "code",
   "execution_count": null,
   "metadata": {},
   "outputs": [],
   "source": [
    "from pathlib import Path\n",
    "from lxml import etree\n",
    "from tqdm.notebook import tqdm"
   ]
  },
  {
   "cell_type": "code",
   "execution_count": null,
   "metadata": {},
   "outputs": [],
   "source": [
    "def get_ref_ids(node: etree.Element) -> tuple[str, str]:\n",
    "    # you need to include the NS in every part of the `xpath`\n",
    "    # https://stackoverflow.com/questions/38936185/etree-xpath-return-entire-html-instead-of-text\n",
    "    ns_map = {'x':'http://www.w3.org/1999/xhtml'}\n",
    "    xpaths = [\n",
    "        \".//x:table/x:tr/x:td//*[contains(text(),'Financial Condition and Results of Operations')]\",\n",
    "        \"ancestor-or-self::x:a[contains(@href, '#')]\",\n",
    "        \"ancestor::x:tr/following-sibling::x:tr/x:td//x:a[contains(@href, '#')]\"]\n",
    "    t1: etree.Element = node.xpath(xpaths[0], namespaces = ns_map)[0]\n",
    "    t1_href: str = t1.xpath(xpaths[1], namespaces = ns_map)[0].attrib['href']\n",
    "    t2_href: str = t1.xpath(xpaths[2], namespaces = ns_map)[0].attrib['href']\n",
    "    return t1_href, t2_href"
   ]
  },
  {
   "cell_type": "code",
   "execution_count": null,
   "metadata": {},
   "outputs": [],
   "source": [
    "parser = etree.XMLParser(encoding = 'utf-8', recover = True, ns_clean = True)\n",
    "for xhtml_file in raw_files.iterdir():\n",
    "    print(f'Parsing {xhtml_file.name}...')\n",
    "    with open(xhtml_file, mode = 'rb') as fp:\n",
    "        xhtml = fp.read()\n",
    "    root: etree.Element = etree.fromstring(xhtml, parser)\n",
    "    ids = get_ref_ids(root)\n",
    "    print(ids[0])\n",
    "    print(ids[1])"
   ]
  }
 ],
 "metadata": {
  "language_info": {
   "name": "python"
  }
 },
 "nbformat": 4,
 "nbformat_minor": 2
}
