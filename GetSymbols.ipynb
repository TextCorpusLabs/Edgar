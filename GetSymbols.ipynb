{
 "cells": [
  {
   "cell_type": "markdown",
   "metadata": {},
   "source": [
    "Get the symbols from the [SEC](https://www.sec.gov/file/company-tickers)\n",
    "\n",
    "* Download from the link\n",
    "* Parse the file\n",
    "* Save it to /data/symbols.csv [CIK, ticker, Name]"
   ]
  },
  {
   "cell_type": "code",
   "execution_count": null,
   "metadata": {},
   "outputs": [],
   "source": [
    "pip install --upgrade pip"
   ]
  },
  {
   "cell_type": "code",
   "execution_count": null,
   "metadata": {},
   "outputs": [],
   "source": [
    "!pip install ipywidgets\n",
    "!pip install tqdm"
   ]
  },
  {
   "cell_type": "code",
   "execution_count": null,
   "metadata": {},
   "outputs": [],
   "source": [
    "import csv\n",
    "import json\n",
    "import requests\n",
    "from pathlib import Path\n",
    "from tqdm.notebook import tqdm"
   ]
  },
  {
   "cell_type": "code",
   "execution_count": null,
   "metadata": {},
   "outputs": [],
   "source": [
    "tickers_url = 'https://www.sec.gov/files/company_tickers.json'\n",
    "user_agent = 'TextCorpusLabs/EDGAR'\n",
    "data_folder = Path('./data')\n",
    "symbol_file = Path('./data/symbols.csv')\n",
    "field_map = [('cik_str','CIK'), ('ticker','Ticker'), ('title','Name')]\n",
    "\n",
    "if not data_folder.exists():\n",
    "    data_folder.mkdir(parents = True)\n",
    "if symbol_file.exists():\n",
    "    symbol_file.unlink()"
   ]
  },
  {
   "cell_type": "code",
   "execution_count": null,
   "metadata": {},
   "outputs": [],
   "source": [
    "with requests.Session() as session:\n",
    "    session.headers['User-Agent'] = user_agent\n",
    "    with session.get(tickers_url) as result:\n",
    "        if result.status_code == 200:\n",
    "            tickers = json.loads(result.text)\n",
    "        else:\n",
    "            print('Error retrieving tickers')\n",
    "            exit(1)"
   ]
  },
  {
   "cell_type": "code",
   "execution_count": null,
   "metadata": {},
   "outputs": [],
   "source": [
    "\n",
    "with open(symbol_file, mode = 'w', encoding = 'utf-8', newline = '') as fp:\n",
    "    writer = csv.writer(fp, delimiter = ',', quotechar = '\"', quoting = csv.QUOTE_ALL)    \n",
    "    writer.writerow([map[1] for map in field_map])\n",
    "    for ticker in tqdm(tickers.values()):\n",
    "        row: list[str | None] = [None] * len(field_map)\n",
    "        for i in range(0, len(field_map)):\n",
    "            field = field_map[i][0]\n",
    "            if field in ticker:\n",
    "                row[i] = ticker[field]\n",
    "        writer.writerow(row)\n"
   ]
  }
 ],
 "metadata": {
  "kernelspec": {
   "display_name": "Python 3",
   "language": "python",
   "name": "python3"
  },
  "language_info": {
   "codemirror_mode": {
    "name": "ipython",
    "version": 3
   },
   "file_extension": ".py",
   "mimetype": "text/x-python",
   "name": "python",
   "nbconvert_exporter": "python",
   "pygments_lexer": "ipython3",
   "version": "3.12.1"
  }
 },
 "nbformat": 4,
 "nbformat_minor": 2
}
