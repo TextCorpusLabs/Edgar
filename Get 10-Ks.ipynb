{
 "cells": [
  {
   "cell_type": "markdown",
   "metadata": {},
   "source": [
    "Reproducible steps for getting 10-k filings from [EDGAR](https://www.sec.gov/edgar).\n"
   ]
  },
  {
   "cell_type": "markdown",
   "metadata": {},
   "source": [
    "# Example\n",
    "\n",
    "1. Navigate to [here](https://www.sec.gov/edgar/searchedgar/companysearch)\n",
    "2. Enter \"ENV\" into the search box.\n",
    "3. Right hand side, expand \"10-K (annual reports) and 10-Q (quarterly reports)\"\n",
    "4. Get whatever is on top.\n",
    "\n",
    "As of 2024/01/03\n",
    "\n",
    "\"ENV\" is:\n",
    "\n",
    "* https://www.sec.gov/edgar/browse/?CIK=1337619\n",
    "* https://www.sec.gov/ix?doc=/Archives/edgar/data/1337619/000133761923000012/env-20221231.htm\n",
    "\n",
    "\"MSFT\" is:\n",
    "\n",
    "* https://www.sec.gov/edgar/browse/?CIK=789019\n",
    "* https://www.sec.gov/ix?doc=/Archives/edgar/data/789019/000095017023035122/msft-20230630.htm\n"
   ]
  },
  {
   "cell_type": "markdown",
   "metadata": {},
   "source": [
    "# Python\n",
    "\n",
    "1. Get all the `tickers` in _tickers.csv_\n",
    "2. For each `ticker` in `tickers`\n",
    "   1. If _data/10-k/raw_ is missing the xhtml associated with the `ticker`, download it\n"
   ]
  },
  {
   "cell_type": "code",
   "execution_count": 1,
   "metadata": {},
   "outputs": [],
   "source": [
    "import csv\n",
    "import requests\n",
    "import sec_downloader.types as sec_t #type: ignore\n",
    "import typing as t\n",
    "from sec_downloader import Downloader #type: ignore\n",
    "from pathlib import Path\n",
    "from tqdm.notebook import tqdm\n",
    "from datetime import datetime"
   ]
  },
  {
   "cell_type": "code",
   "execution_count": 2,
   "metadata": {},
   "outputs": [],
   "source": [
    "data_folder = Path('./data/10-k')\n",
    "tickers_file = Path('./data/tickers.csv')\n",
    "bad_tickers_file = Path('./data/tickers.bad.csv')\n",
    "user_agent = 'TextCorpusLabs/EDGAR'\n",
    "limit = 20\n",
    "form_type = '10-K'"
   ]
  },
  {
   "cell_type": "code",
   "execution_count": 3,
   "metadata": {},
   "outputs": [],
   "source": [
    "if not tickers_file.exists():\n",
    "    print('Run GetTickers.ipynb first to generate the tickers file')\n",
    "    exit(1)"
   ]
  },
  {
   "cell_type": "code",
   "execution_count": 4,
   "metadata": {},
   "outputs": [],
   "source": [
    "with open(tickers_file, mode = 'r', encoding = 'utf-8') as fp:\n",
    "    reader = csv.reader(fp)\n",
    "    next(reader)\n",
    "    tickers = [row[1] for row in reader]\n",
    "\n",
    "if bad_tickers_file.exists():\n",
    "    with open(bad_tickers_file, mode = 'r', encoding = 'utf-8') as fp:\n",
    "        reader = csv.reader(fp)\n",
    "        next(reader)\n",
    "        bad_tickers = [row[0] for row in reader]\n",
    "else:\n",
    "    bad_tickers = []\n",
    "\n",
    "tickers = [ticker for ticker in sorted(tickers) if ticker not in bad_tickers]"
   ]
  },
  {
   "cell_type": "code",
   "execution_count": 5,
   "metadata": {},
   "outputs": [],
   "source": [
    "def get_filing_metadata(ticker: str, form_type: str, limit: int) -> t.Union[None, t.List[sec_t.FilingMetadata]]:\n",
    "    downloader = Downloader(user_agent, '')\n",
    "    try:\n",
    "        return downloader.get_filing_metadatas(sec_t.RequestedFilings(ticker_or_cik  = ticker, form_type = form_type, limit = limit))\n",
    "    except ValueError:\n",
    "        return None"
   ]
  },
  {
   "cell_type": "code",
   "execution_count": 6,
   "metadata": {},
   "outputs": [],
   "source": [
    "def get_xhtml_file_path(data_folder: Path, metadata: sec_t.FilingMetadata) -> Path:\n",
    "    filing_date = metadata.filing_date\n",
    "    report_year = datetime.strptime(metadata.report_date, '%Y-%m-%d').year\n",
    "    exchange = metadata.tickers[0].exchange\n",
    "    symbol = metadata.tickers[0].symbol\n",
    "    return data_folder.joinpath(f'raw/{exchange}/{report_year}/{symbol}.{filing_date}.xhtml')"
   ]
  },
  {
   "cell_type": "code",
   "execution_count": 7,
   "metadata": {},
   "outputs": [],
   "source": [
    "def get_filing_xhtml(session: requests.Session, metadata: sec_t.FilingMetadata) -> t.Union[None, str]:\n",
    "    doc_url = metadata.primary_doc_url\n",
    "    with session.get(doc_url) as response:\n",
    "        if response.status_code == 200:\n",
    "            return response.text\n",
    "    return None"
   ]
  },
  {
   "cell_type": "markdown",
   "metadata": {},
   "source": [
    "The following block downloads files into _./data/10-k/raw_.\n",
    "You can find a cached version in \"Datasets\" under GitHub's [Release](https://github.com/TextCorpusLabs/Edgar/releases).\n",
    "The file you want is called _10-K.raw.zip_."
   ]
  },
  {
   "cell_type": "code",
   "execution_count": 8,
   "metadata": {},
   "outputs": [
    {
     "data": {
      "application/vnd.jupyter.widget-view+json": {
       "model_id": "e0ccb30580be45028837b75099c55d25",
       "version_major": 2,
       "version_minor": 0
      },
      "text/plain": [
       "  0%|          | 0/10568 [00:00<?, ?it/s]"
      ]
     },
     "metadata": {},
     "output_type": "display_data"
    }
   ],
   "source": [
    "with requests.Session() as session:\n",
    "    session.headers['User-Agent'] = user_agent\n",
    "    for ticker in tqdm(tickers):\n",
    "        metadata = get_filing_metadata(ticker, form_type, limit)\n",
    "        if metadata is None:\n",
    "            bad_tickers.append(ticker)\n",
    "        else:\n",
    "            for meta in metadata:\n",
    "                xhtml_file = get_xhtml_file_path(data_folder, meta)\n",
    "                if not xhtml_file.parent.exists():\n",
    "                    xhtml_file.parent.mkdir(parents = True)\n",
    "                if xhtml_file.exists():\n",
    "                    continue\n",
    "                xhtml = get_filing_xhtml(session, meta)\n",
    "                if xhtml is not None:\n",
    "                    with open(xhtml_file, mode = 'w') as fp:\n",
    "                        fp.write(xhtml)"
   ]
  },
  {
   "cell_type": "code",
   "execution_count": 9,
   "metadata": {},
   "outputs": [],
   "source": [
    "with open(bad_tickers_file, mode = 'w', encoding = 'utf-8', newline = '') as fp:\n",
    "    writer = csv.writer(fp, delimiter = ',', quotechar = '\"', quoting = csv.QUOTE_ALL)\n",
    "    writer.writerow(['Ticker'])\n",
    "    for ticker in bad_tickers:\n",
    "        writer.writerow([ticker])"
   ]
  }
 ],
 "metadata": {
  "datalore": {
   "base_environment": "minimal",
   "computation_mode": "JUPYTER",
   "package_manager": "pip",
   "packages": [],
   "report_row_ids": [],
   "version": 3
  },
  "kernelspec": {
   "display_name": "Python 3",
   "language": "python",
   "name": "python3"
  },
  "language_info": {
   "codemirror_mode": {
    "name": "ipython",
    "version": 3
   },
   "file_extension": ".py",
   "mimetype": "text/x-python",
   "name": "python",
   "nbconvert_exporter": "python",
   "pygments_lexer": "ipython3",
   "version": "3.12.1"
  }
 },
 "nbformat": 4,
 "nbformat_minor": 4
}
