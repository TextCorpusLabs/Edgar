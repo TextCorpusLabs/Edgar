{
 "cells": [
  {
   "cell_type": "markdown",
   "metadata": {},
   "source": [
    "Reproducible steps for getting 10-k filings from [EDGAR](https://www.sec.gov/edgar).\n"
   ]
  },
  {
   "cell_type": "markdown",
   "metadata": {},
   "source": [
    "# Example\n",
    "\n",
    "1. Navigate to [here](https://www.sec.gov/edgar/searchedgar/companysearch)\n",
    "2. Enter \"ENV\" into the search box.\n",
    "3. Right hand side, expand \"10-K (annual reports) and 10-Q (quarterly reports)\"\n",
    "4. Get whatever is on top.\n",
    "\n",
    "As of 2024/01/03\n",
    "\n",
    "\"ENV\" is:\n",
    "\n",
    "* https://www.sec.gov/edgar/browse/?CIK=1337619\n",
    "* https://www.sec.gov/ix?doc=/Archives/edgar/data/1337619/000133761923000012/env-20221231.htm\n",
    "\n",
    "\"MSFT\" is:\n",
    "\n",
    "* https://www.sec.gov/edgar/browse/?CIK=789019\n",
    "* https://www.sec.gov/ix?doc=/Archives/edgar/data/789019/000095017023035122/msft-20230630.htm\n"
   ]
  },
  {
   "cell_type": "markdown",
   "metadata": {},
   "source": [
    "# Python\n",
    "\n",
    "1. Get all the `tickers` in _tickers.csv_\n",
    "2. For each `ticker` in `tickers`\n",
    "   1. If _data/10-k/raw_ is missing the xhtml associated with the `ticker`, download it\n"
   ]
  },
  {
   "cell_type": "code",
   "execution_count": null,
   "metadata": {},
   "outputs": [],
   "source": [
    "import csv\n",
    "from sec_downloader import Downloader #type: ignore\n",
    "from pathlib import Path\n",
    "from tqdm.notebook import tqdm"
   ]
  },
  {
   "cell_type": "code",
   "execution_count": null,
   "metadata": {},
   "outputs": [],
   "source": [
    "data_folder = Path('./data/10-k')\n",
    "raw_folder = data_folder.joinpath('raw')\n",
    "tickers_file = Path('./data/tickers.csv')\n",
    "bad_tickers_file = Path('./data/tickers.bad.csv')\n",
    "company_name = 'TextCorpusLabs'\n",
    "email_address = 'sokpheanal.huynh@gmail.com'\n",
    "\n",
    "if not raw_folder.exists():\n",
    "    raw_folder.mkdir(parents = True)\n",
    "if not tickers_file.exists():\n",
    "    print('Run GetTickers.ipynb first to generate the tickers file')\n",
    "    exit(1)"
   ]
  },
  {
   "cell_type": "code",
   "execution_count": null,
   "metadata": {},
   "outputs": [],
   "source": [
    "with open(tickers_file, mode = 'r', encoding = 'utf-8') as fp:\n",
    "    reader = csv.reader(fp)\n",
    "    next(reader)\n",
    "    tickers = [row[1] for row in reader]\n",
    "\n",
    "if bad_tickers_file.exists():\n",
    "    with open(bad_tickers_file, mode = 'r', encoding = 'utf-8') as fp:\n",
    "        reader = csv.reader(fp)\n",
    "        next(reader)\n",
    "        bad_tickers = [row[0] for row in reader]\n",
    "else:\n",
    "    bad_tickers = []\n",
    "\n",
    "tickers = [ticker for ticker in sorted(tickers) if ticker not in bad_tickers]"
   ]
  },
  {
   "cell_type": "markdown",
   "metadata": {},
   "source": [
    "The following block downloads files into _./data/10-k/raw_.\n",
    "You can find a cached version in \"Datasets\" under GitHub's [Release](https://github.com/TextCorpusLabs/Edgar/releases).\n",
    "The file you want is called _10-K.raw.zip_."
   ]
  },
  {
   "cell_type": "code",
   "execution_count": null,
   "metadata": {},
   "outputs": [],
   "source": [
    "dl = Downloader(company_name, email_address)\n",
    "for ticker in tqdm(tickers):\n",
    "    xhtml_file = raw_folder.joinpath(f'{ticker}.xhtml')\n",
    "    if xhtml_file.exists():\n",
    "        continue\n",
    "    try:\n",
    "        xhtml = dl.get_filing_html(ticker = ticker, form = \"10-K\")\n",
    "        with open(xhtml_file, mode = 'wb') as fp:\n",
    "            fp.write(xhtml)\n",
    "    except:\n",
    "        bad_tickers.append(ticker)\n",
    "\n",
    "with open(bad_tickers_file, mode = 'w', encoding = 'utf-8', newline = '') as fp:\n",
    "    writer = csv.writer(fp, delimiter = ',', quotechar = '\"', quoting = csv.QUOTE_ALL)\n",
    "    writer.writerow(['Ticker'])\n",
    "    for ticker in bad_tickers:\n",
    "        writer.writerow([ticker])"
   ]
  }
 ],
 "metadata": {
  "datalore": {
   "base_environment": "minimal",
   "computation_mode": "JUPYTER",
   "package_manager": "pip",
   "packages": [],
   "report_row_ids": [],
   "version": 3
  },
  "kernelspec": {
   "display_name": "Python 3",
   "language": "python",
   "name": "python3"
  },
  "language_info": {
   "codemirror_mode": {
    "name": "ipython",
    "version": 3
   },
   "file_extension": ".py",
   "mimetype": "text/x-python",
   "name": "python",
   "nbconvert_exporter": "python",
   "pygments_lexer": "ipython3",
   "version": "3.12.1"
  }
 },
 "nbformat": 4,
 "nbformat_minor": 4
}
