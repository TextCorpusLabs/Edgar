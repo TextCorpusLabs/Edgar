{
 "cells": [
  {
   "cell_type": "markdown",
   "metadata": {},
   "source": [
    "Reproducible steps for getting 10-k filings from [EDGAR](https://www.sec.gov/edgar).\n"
   ]
  },
  {
   "cell_type": "markdown",
   "metadata": {},
   "source": [
    "# Example\n",
    "\n",
    "1. Navigate to [here](https://www.sec.gov/edgar/searchedgar/companysearch)\n",
    "2. Enter \"ENV\" into the search box.\n",
    "3. Right hand side, expand \"10-K (annual reports) and 10-Q (quarterly reports)\"\n",
    "4. Get whatever is on top.\n",
    "\n",
    "As of 2024/01/03\n",
    "\n",
    "\"ENV\" is:\n",
    "\n",
    "* https://www.sec.gov/edgar/browse/?CIK=1337619\n",
    "* https://www.sec.gov/ix?doc=/Archives/edgar/data/1337619/000133761923000012/env-20221231.htm\n",
    "\n",
    "\"MSFT\" is:\n",
    "\n",
    "* https://www.sec.gov/edgar/browse/?CIK=789019\n",
    "* https://www.sec.gov/ix?doc=/Archives/edgar/data/789019/000095017023035122/msft-20230630.htm\n"
   ]
  },
  {
   "cell_type": "code",
   "execution_count": null,
   "metadata": {},
   "outputs": [],
   "source": [
    "import csv\n",
    "import requests\n",
    "import sec_downloader.types as sec_t #type: ignore\n",
    "import typing as t\n",
    "from sec_downloader import Downloader #type: ignore\n",
    "from pathlib import Path\n",
    "from tqdm.notebook import tqdm\n",
    "from datetime import datetime"
   ]
  },
  {
   "cell_type": "code",
   "execution_count": null,
   "metadata": {},
   "outputs": [],
   "source": [
    "data_folder = Path('./data/10-k/raw')\n",
    "tickers_file = Path('./data/tickers.csv')\n",
    "bad_cik_file = Path('./data/bad_cik.csv')\n",
    "user_agent = 'TextCorpusLabs/EDGAR'\n",
    "limit = 20\n",
    "form_type = '10-K'"
   ]
  },
  {
   "cell_type": "markdown",
   "metadata": {},
   "source": [
    "_tickers.csv_ is a required file.\n",
    "If you don't have it, please run _Get Tickers.ipynb_ before proceding"
   ]
  },
  {
   "cell_type": "code",
   "execution_count": null,
   "metadata": {},
   "outputs": [],
   "source": [
    "if not tickers_file.exists():\n",
    "    print('Run  to generate the tickers file')\n",
    "    exit(1)"
   ]
  },
  {
   "cell_type": "markdown",
   "metadata": {},
   "source": [
    "We need to pull the ticker from _tickers.csv_ to process.\n",
    "However, the SEC has some effective dupes (AACI vs AACIU) in their data pull.\n",
    "They will both have the same CIK number (1844817) which is how the SEC understands the company.\n",
    "We need to pull the distinct CIKs and use those, not the English symbol.\n",
    "This means we need to load the CIKs, not the ticker from _tickers.csv_. "
   ]
  },
  {
   "cell_type": "code",
   "execution_count": null,
   "metadata": {},
   "outputs": [],
   "source": [
    "with open(tickers_file, mode = 'r', encoding = 'utf-8') as fp:\n",
    "    reader = csv.reader(fp)\n",
    "    next(reader)\n",
    "    ciks = list(set(row[0] for row in reader))"
   ]
  },
  {
   "cell_type": "markdown",
   "metadata": {},
   "source": [
    "We need to filter out CIKs that have proven hard to pull in the past (`bad_cik_file`).\n",
    "As we process, any CIK that has an issue will be added to this list."
   ]
  },
  {
   "cell_type": "code",
   "execution_count": null,
   "metadata": {},
   "outputs": [],
   "source": [
    "if bad_cik_file.exists():\n",
    "    with open(bad_cik_file, mode = 'r', encoding = 'utf-8') as fp:\n",
    "        reader = csv.reader(fp)\n",
    "        next(reader)\n",
    "        bad_ciks = [row[0] for row in reader]\n",
    "else:\n",
    "    bad_ciks = []\n",
    "\n",
    "ciks = [cik for cik in sorted(ciks) if cik not in bad_ciks]"
   ]
  },
  {
   "cell_type": "code",
   "execution_count": null,
   "metadata": {},
   "outputs": [],
   "source": [
    "def get_filing_metadata(cik: str, form_type: str, limit: int) -> t.Union[None, t.List[sec_t.FilingMetadata]]:\n",
    "    downloader = Downloader(user_agent, '')\n",
    "    try:\n",
    "        return downloader.get_filing_metadatas(sec_t.RequestedFilings(ticker_or_cik  = cik, form_type = form_type, limit = limit))\n",
    "    except ValueError:\n",
    "        return None"
   ]
  },
  {
   "cell_type": "code",
   "execution_count": null,
   "metadata": {},
   "outputs": [],
   "source": [
    "def get_xhtml_file_path(data_folder: Path, metadata: sec_t.FilingMetadata) -> Path:\n",
    "    filing_date = datetime.strptime(metadata.filing_date, '%Y-%m-%d')\n",
    "    filing_date = datetime.strftime(filing_date, '%Y%m%d')\n",
    "    report_year = datetime.strptime(metadata.report_date, '%Y-%m-%d')\n",
    "    report_year = datetime.strftime(report_year, '%Y')\n",
    "    return data_folder.joinpath(f'{report_year}/{metadata.cik}.{filing_date}.xhtml')"
   ]
  },
  {
   "cell_type": "code",
   "execution_count": null,
   "metadata": {},
   "outputs": [],
   "source": [
    "def get_filing_xhtml(session: requests.Session, metadata: sec_t.FilingMetadata) -> t.Union[None, str]:\n",
    "    doc_url = metadata.primary_doc_url\n",
    "    with session.get(doc_url) as response:\n",
    "        if response.status_code == 200:\n",
    "            return response.text\n",
    "    return None"
   ]
  },
  {
   "cell_type": "markdown",
   "metadata": {},
   "source": [
    "Get the `cik`'s filing's (`form_type`) metadata for the past `limit` years.\n",
    "It is possible for this to return less than the full amount.\n",
    "If no metadata is returned, add the `cik` to the list of `bad_ciks` so we don't keep re-trying them."
   ]
  },
  {
   "cell_type": "code",
   "execution_count": null,
   "metadata": {},
   "outputs": [],
   "source": [
    "with requests.Session() as session:\n",
    "    session.headers['User-Agent'] = user_agent\n",
    "    for cik in tqdm(ciks):\n",
    "        print(f'Working on cik ({cik}): ', end = '')\n",
    "        metadata = get_filing_metadata(cik, form_type, limit)\n",
    "        if metadata is None:\n",
    "            bad_ciks.append(cik)\n",
    "            print(f'no {form_type} filings')\n",
    "        else:\n",
    "            for meta in metadata:\n",
    "                print(f'{meta.report_date} ', end = '')\n",
    "                xhtml_file = get_xhtml_file_path(data_folder, meta)\n",
    "                if not xhtml_file.parent.exists():\n",
    "                    xhtml_file.parent.mkdir(parents = True)\n",
    "                if xhtml_file.exists():\n",
    "                    continue\n",
    "                xhtml = get_filing_xhtml(session, meta)\n",
    "                if xhtml is None:\n",
    "                    print(f' (failed) ', end = '')\n",
    "                else:\n",
    "                    with open(xhtml_file, mode = 'w') as fp:\n",
    "                        fp.write(xhtml)\n",
    "            print('')"
   ]
  },
  {
   "cell_type": "code",
   "execution_count": null,
   "metadata": {},
   "outputs": [],
   "source": [
    "with open(bad_cik_file, mode = 'w', encoding = 'utf-8', newline = '') as fp:\n",
    "    writer = csv.writer(fp, delimiter = ',', quotechar = '\"', quoting = csv.QUOTE_ALL)\n",
    "    writer.writerow(['CIK'])\n",
    "    for cik in bad_ciks:\n",
    "        writer.writerow([cik])"
   ]
  }
 ],
 "metadata": {
  "datalore": {
   "base_environment": "minimal",
   "computation_mode": "JUPYTER",
   "package_manager": "pip",
   "packages": [],
   "report_row_ids": [],
   "version": 3
  },
  "kernelspec": {
   "display_name": "Python 3",
   "language": "python",
   "name": "python3"
  },
  "language_info": {
   "codemirror_mode": {
    "name": "ipython",
    "version": 3
   },
   "file_extension": ".py",
   "mimetype": "text/x-python",
   "name": "python",
   "nbconvert_exporter": "python",
   "pygments_lexer": "ipython3",
   "version": "3.12.1"
  }
 },
 "nbformat": 4,
 "nbformat_minor": 4
}
